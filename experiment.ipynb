{
 "cells": [
  {
   "cell_type": "code",
   "execution_count": null,
   "id": "0",
   "metadata": {},
   "outputs": [],
   "source": [
    "%matplotlib inline"
   ]
  },
  {
   "cell_type": "code",
   "execution_count": null,
   "id": "1",
   "metadata": {},
   "outputs": [],
   "source": [
    "import MDAnalysis as mda\n",
    "import ARPDF, utils, search_boxes, ARPDF_POLAR\n",
    "import importlib\n",
    "import matplotlib.pyplot as plt\n",
    "import torch\n",
    "from optimize_ARPDF import ARPDFOptimizer\n",
    "import pandas as pd\n",
    "\n",
    "\n",
    "importlib.reload(search_boxes)\n",
    "importlib.reload(ARPDF)\n",
    "importlib.reload(utils)\n",
    "from ARPDF import *\n",
    "from utils import *\n",
    "from ARPDF_POLAR import *\n",
    "from search_boxes import workflow_demo, polar_workflow_demo"
   ]
  },
  {
   "cell_type": "code",
   "execution_count": null,
   "id": "2",
   "metadata": {},
   "outputs": [],
   "source": [
    "u1, u2, modified_atoms, polar_axis = load_structure_data('data/CCl4')\n",
    "X, Y = generate_grids(10, N=512)\n",
    "R, phi = generate_grids((0,10,0,0.5*np.pi),256,100)\n",
    "filter_fourier = lambda kX, kY, xp: xp.ones_like(kX)\n",
    "#filter_fourier = lambda kX, kY, xp: (1 - xp.exp(-(kX**2 / 0.3 + kY**2 / 0.1)))**3 * xp.exp(-0.08 * (kX**2 + kY**2))\n",
    "# filter_fourier = lambda kX, kY, xp: xp.ones_like(kX)\n",
    "print(modified_atoms)\n",
    "sigma0 = 0.2\n",
    "neg = False\n",
    "print(f\"sigma0 = {sigma0}\")"
   ]
  },
  {
   "cell_type": "code",
   "execution_count": null,
   "id": "3",
   "metadata": {},
   "outputs": [],
   "source": [
    "ARPDF_ref_1 = compute_ARPDF(u1, u2, N=512, cutoff=13.0, sigma0=0.2, grids_XY=(X, Y), modified_atoms=modified_atoms, \n",
    "                        polar_axis=polar_axis, periodic=True, filter_fourier=filter_fourier, verbose=True, neg=False)"
   ]
  },
  {
   "cell_type": "code",
   "execution_count": null,
   "id": "b948eebb-63e2-47b7-a3c4-0d7daebc4f9d",
   "metadata": {},
   "outputs": [],
   "source": [
    "ARPDF_trans, R, phi = cartesian_to_polar(ARPDF_ref_1, r_max=10, grid_shape=(360, 128))"
   ]
  },
  {
   "cell_type": "code",
   "execution_count": null,
   "id": "4eba87c7-f77c-4321-a9c5-7c3208322a17",
   "metadata": {},
   "outputs": [],
   "source": [
    "ARPDF_ref_2, X, Y = polar_to_cartesian(ARPDF_trans, r_max=10, grid_shape=(256, 256))"
   ]
  },
  {
   "cell_type": "code",
   "execution_count": null,
   "id": "07d25e21-3558-492c-9a40-b04012a5c5e5",
   "metadata": {},
   "outputs": [],
   "source": [
    "plt.figure(figsize=(6, 5))\n",
    "plt.imshow(ARPDF_trans, aspect='auto', cmap='bwr', origin='lower',\n",
    "           extent=[0, R.max(), 0, 90])  # 横轴是r，纵轴是phi角度（度数）\n",
    "\n",
    "plt.colorbar(label='Intensity')\n",
    "plt.xlabel('r (Å)')\n",
    "plt.ylabel('φ (degree)')\n",
    "plt.title('ARPDF in Polar Coordinates (f(r, φ))')\n",
    "plt.tight_layout()\n",
    "plt.show()"
   ]
  },
  {
   "cell_type": "code",
   "execution_count": null,
   "id": "f74673d9-ae0e-426b-856b-0f2874a6908b",
   "metadata": {},
   "outputs": [],
   "source": [
    "ARPDF_ref_1.shape"
   ]
  },
  {
   "cell_type": "code",
   "execution_count": null,
   "id": "d4b252c9-cd98-4a24-9cef-a2434a5e4242",
   "metadata": {},
   "outputs": [],
   "source": [
    "ARPDF_ref,_ = compute_ARPDF_polar(u1, u2, N=512, cutoff=9.0, sigma0=0.2, grids_polar=(R, phi), modified_atoms=modified_atoms, \n",
    "                        polar_axis=polar_axis, periodic=True, verbose=True, neg=False)"
   ]
  },
  {
   "cell_type": "code",
   "execution_count": null,
   "metadata": {},
   "outputs": [],
   "source": [
    "# 原始 ARPDF_rphi.shape = (256, 100)\n",
    "ARPDF_full, R_full, phi_full = polar_extend_2pi(ARPDF_ref, R, phi, n_fold=4)\n"
   ]
  },
  {
   "cell_type": "code",
   "execution_count": null,
   "id": "7aaeba3c-93cf-44b4-ab9a-67be123b2183",
   "metadata": {},
   "outputs": [],
   "source": [
    "cartesian_ARPDF_ref = polar_to_cartesian(ARPDF_full, (R_full,phi_full),(X,Y))"
   ]
  },
  {
   "cell_type": "code",
   "execution_count": null,
   "metadata": {},
   "outputs": [],
   "source": [
    "import matplotlib.pyplot as plt\n",
    "\n",
    "def plot_polar_vs_cartesian(ARPDF_ref, R, phi, cartesian_ARPDF_ref, X, Y):\n",
    "    fig, axs = plt.subplots(1, 2, figsize=(12, 5))\n",
    "\n",
    "    # 极坐标图\n",
    "    im0 = axs[0].imshow(ARPDF_ref, extent=[np.degrees(phi.min()), np.degrees(phi.max()), R.min(), R.max()],\n",
    "                        aspect='auto', origin='lower',cmap='bwr')\n",
    "    axs[0].set_title(\"Polar ARPDF\")\n",
    "    axs[0].set_xlabel(\"Phi (degrees)\")\n",
    "    axs[0].set_ylabel(\"R\")\n",
    "    fig.colorbar(im0, ax=axs[0])\n",
    "\n",
    "    # 直角坐标图\n",
    "    im1 = axs[1].imshow(cartesian_ARPDF_ref, extent=[X.min(), X.max(), Y.min(), Y.max()],\n",
    "                        origin='lower', cmap='bwr')\n",
    "    axs[1].set_title(\"Cartesian ARPDF\")\n",
    "    axs[1].set_xlabel(\"X\")\n",
    "    axs[1].set_ylabel(\"Y\")\n",
    "    fig.colorbar(im1, ax=axs[1])\n",
    "\n",
    "    plt.tight_layout()\n",
    "    plt.show()\n"
   ]
  },
  {
   "cell_type": "code",
   "execution_count": null,
   "metadata": {},
   "outputs": [],
   "source": [
    "plot_polar_vs_cartesian(ARPDF_full, R_full, phi_full, cartesian_ARPDF_ref, X, Y)\n"
   ]
  },
  {
   "cell_type": "code",
   "execution_count": null,
   "metadata": {},
   "outputs": [],
   "source": [
    "print(\"ARPDF_ref_1 min:\", ARPDF_ref_1.min())\n",
    "print(\"ARPDF_ref_1 max:\", ARPDF_ref_1.max())\n",
    "print(\"ARPDF_ref_1 mean:\", ARPDF_ref_1.mean())"
   ]
  },
  {
   "cell_type": "code",
   "execution_count": null,
   "metadata": {},
   "outputs": [],
   "source": [
    "# 1. 检查坐标是否越界\n",
    "X_new = R * np.cos(phi)\n",
    "Y_new = R * np.sin(phi)\n",
    "\n",
    "print(\"X_new range:\", X_new.min(), X_new.max())\n",
    "print(\"X grid range:\", X.min(), X.max())\n",
    "print(\"Y_new range:\", Y_new.min(), Y_new.max())\n",
    "print(\"Y grid range:\", Y.min(), Y.max())\n",
    "\n",
    "# 2. 检查插值结果是否异常\n",
    "polar_ARPDF_ref_1 = cartesian_to_polar(ARPDF_ref_1, (X, Y), (R, phi))\n",
    "\n",
    "print(\"polar_ARPDF_ref_1 shape:\", polar_ARPDF_ref_1.shape)\n",
    "print(\"min:\", np.min(polar_ARPDF_ref_1))\n",
    "print(\"max:\", np.max(polar_ARPDF_ref_1))\n",
    "print(\"mean:\", np.mean(polar_ARPDF_ref_1))\n",
    "print(\"contains NaN:\", np.isnan(polar_ARPDF_ref_1).any())\n"
   ]
  },
  {
   "cell_type": "code",
   "execution_count": null,
   "metadata": {},
   "outputs": [],
   "source": [
    "import matplotlib.pyplot as plt\n",
    "\n",
    "# 创建一个对比图\n",
    "fig, axs = plt.subplots(1, 2, figsize=(12, 5))\n",
    "\n",
    "# 原始图（直角坐标）\n",
    "im0 = axs[0].imshow(ARPDF_ref_1, extent=(X.min(), X.max(), Y.min(), Y.max()), origin='lower',cmap='bwr')\n",
    "axs[0].set_title(\"ARPDF_ref_1 (Cartesian)\")\n",
    "axs[0].set_xlabel(\"X\")\n",
    "axs[0].set_ylabel(\"Y\")\n",
    "fig.colorbar(im0, ax=axs[0])\n",
    "\n",
    "# 转换后的图（极坐标）\n",
    "im1 = axs[1].imshow(polar_ARPDF_ref_1, extent=(R.min(), R.max(), phi.min(), phi.max()), aspect='auto', origin='lower',cmap='bwr')\n",
    "axs[1].set_title(\"ARPDF_ref_1 (Polar)\")\n",
    "axs[1].set_xlabel(\"r\")\n",
    "axs[1].set_ylabel(\"phi\")\n",
    "fig.colorbar(im1, ax=axs[1])\n",
    "\n",
    "plt.tight_layout()\n",
    "plt.show()\n"
   ]
  },
  {
   "cell_type": "code",
   "execution_count": null,
   "id": "b2b3c4e4-3b10-4479-9d4c-49b22b78d5dd",
   "metadata": {},
   "outputs": [],
   "source": [
    "# 原始数据\n",
    "f_q1 = ARPDF_ref['total'].T  # shape = (90, 128)\n",
    "\n",
    "# 镜像得到 90–180°\n",
    "f_q2 = np.flip(f_q1, axis=0)\n",
    "# 镜像得到 180–270°\n",
    "f_q3 = f_q1\n",
    "# 镜像得到 270–360°\n",
    "f_q4 = np.flip(f_q1, axis=0)\n",
    "\n",
    "# 拼接在一起\n",
    "f_full = np.concatenate([f_q1, f_q2, f_q3, f_q4], axis=0)  # shape = (360, 128)\n",
    "\n",
    "# 再转换\n",
    "f_xy, X, Y = polar_to_cartesian(f_full, r_max=10, grid_shape=(256, 256))\n",
    "\n",
    "# 画图\n",
    "plt.imshow(f_xy.T, extent=[-10, 10, -10, 10], origin='lower', cmap='bwr')\n",
    "plt.clim(-40,40)\n",
    "plt.colorbar()\n",
    "plt.title('ARPDF (symmetry-extended)')\n",
    "plt.xlabel('X (Å)')\n",
    "plt.ylabel('Y (Å)')\n",
    "plt.xlim(-8,8)\n",
    "plt.ylim(-8,8)\n",
    "#plt.axis('equal')\n",
    "plt.show()\n"
   ]
  },
  {
   "cell_type": "code",
   "execution_count": null,
   "id": "b02ec937-270d-487e-ae9c-e21e3e7aa17f",
   "metadata": {},
   "outputs": [],
   "source": [
    "f_xy.shape"
   ]
  },
  {
   "cell_type": "code",
   "execution_count": null,
   "id": "de72500e-94c7-42bb-9f93-bf1ae0bdad51",
   "metadata": {},
   "outputs": [],
   "source": [
    "from utils import generate_grids  # 或者你项目中已有的 generate_grids\n",
    "import numpy as np\n",
    "\n",
    "# 假设 cutoff 是你计算 ARPDF 时用的最大半径\n",
    "cutoff = 10.0\n",
    "N = 256\n",
    "\n",
    "X1, Y1 = generate_grids(xy_range=10, N=N)\n",
    "R1 = np.sqrt(X1**2 + Y1**2)"
   ]
  },
  {
   "cell_type": "code",
   "execution_count": null,
   "id": "59711ae6-e50c-44c4-8670-d0219a1b2f28",
   "metadata": {},
   "outputs": [],
   "source": [
    "from utils.similarity import get_angular_filters  # 用你自己的路径\n",
    "r0_values = np.linspace(0.5, 8.0, 64)  # 64 个半径点\n",
    "sigma = 0.1 \n",
    "\n",
    "angular_filters = get_angular_filters(R1, r0=r0_values, sigma=sigma)"
   ]
  },
  {
   "cell_type": "code",
   "execution_count": null,
   "id": "725f56b0-97d8-4fd4-8150-6365ce400ed6",
   "metadata": {},
   "outputs": [],
   "source": [
    "from utils.similarity import angular_similarity\n",
    "\n",
    "similarity = angular_similarity(ARPDF_ref_1, f_xy.T, angular_filters)\n",
    "print(f\"Angular similarity = {similarity:.4f}\")"
   ]
  },
  {
   "cell_type": "code",
   "execution_count": null,
   "id": "b8271e6f-6038-4c89-a170-2bd72f5569c6",
   "metadata": {},
   "outputs": [],
   "source": [
    "59.2150/64"
   ]
  },
  {
   "cell_type": "code",
   "execution_count": null,
   "id": "78d9ccad-3a08-4776-8bf6-c4dd61f6f39a",
   "metadata": {},
   "outputs": [],
   "source": [
    "# 原图数据是 f_xy，shape = (512, 512)，你做了转置\n",
    "# 所以 X=0 对应的是 f_xy 的中间行，而非列\n",
    "\n",
    "x0_index = f_xy.shape[0] // 2  # 中间行索引\n",
    "cut = f_xy[x0_index, :]        # 沿 Y 轴方向提取\n",
    "\n",
    "# 生成对应的 Y 坐标\n",
    "y_vals = np.linspace(-10, 10, f_xy.shape[1])\n",
    "\n",
    "# 画出切片\n",
    "import matplotlib.pyplot as plt\n",
    "plt.plot(y_vals, cut, color='blue')\n",
    "plt.xlabel('Y (Å)')\n",
    "plt.ylabel('ARPDF at X = 0')\n",
    "plt.title('Vertical Slice (X = 0) of ARPDF')\n",
    "plt.grid(True)\n",
    "plt.axhline(0, color='gray', linewidth=0.5, linestyle='--')\n",
    "plt.show()\n",
    "\n"
   ]
  },
  {
   "cell_type": "code",
   "execution_count": null,
   "id": "4",
   "metadata": {},
   "outputs": [],
   "source": [
    "X_exp, Y_exp, ARPDF_exp = utils.load_exp_data('data/CCl4', rmax=10.0)"
   ]
  },
  {
   "cell_type": "code",
   "execution_count": null,
   "id": "5",
   "metadata": {},
   "outputs": [],
   "source": [
    "def compare_slices_x_positive_y0(X_ref, Y_ref, ARPDF_ref,\n",
    "                                  X_exp, Y_exp, ARPDF_exp,\n",
    "                                  labels=(\"Sim\", \"Exp\")):\n",
    "    \"\"\"\n",
    "    Compare ARPDF slices at y=0 and x>0 from two datasets (ref and exp).\n",
    "    \"\"\"\n",
    "    def _to_cpu(arr):\n",
    "        return arr.get() if hasattr(arr, \"get\") else arr\n",
    "\n",
    "    # 保证都在 CPU 上\n",
    "    X_ref, Y_ref, A_ref = map(_to_cpu, (X_ref, Y_ref, ARPDF_ref))\n",
    "    X_exp, Y_exp, A_exp = map(_to_cpu, (X_exp, Y_exp, ARPDF_exp))\n",
    "\n",
    "    # 找出 y=0 最近的一行（横向切片）\n",
    "    idx_y_ref = np.argmin(np.abs(Y_ref[:, 0]))  # y 是每一行值相同\n",
    "    idx_y_exp = np.argmin(np.abs(Y_exp[:, 0]))\n",
    "\n",
    "    # 获取 x>0 部分的切片\n",
    "    x_ref = X_ref[idx_y_ref, :]\n",
    "    slice_ref = A_ref[idx_y_ref, :]\n",
    "    mask_ref = x_ref > 0\n",
    "    x_ref = x_ref[mask_ref]\n",
    "    slice_ref = slice_ref[mask_ref]\n",
    "\n",
    "    x_exp = X_exp[idx_y_exp, :]\n",
    "    slice_exp = A_exp[idx_y_exp, :]\n",
    "    mask_exp = x_exp > 0\n",
    "    x_exp = x_exp[mask_exp]\n",
    "    slice_exp = slice_exp[mask_exp]\n",
    "\n",
    "    # 画图\n",
    "    plt.figure(figsize=(6, 4))\n",
    "    plt.plot(x_ref, slice_ref*5.8, label=labels[0], lw=2)\n",
    "    plt.plot(x_exp, slice_exp, label=labels[1], lw=2, linestyle=\"--\")\n",
    "    plt.xlabel(\"x (Å)\")\n",
    "    plt.ylabel(\"ARPDF at y = 0\")\n",
    "    plt.title(\"Comparison of ARPDF slices (y=0, x>0)\")\n",
    "    plt.grid(True)\n",
    "    plt.legend()\n",
    "    plt.tight_layout()\n",
    "    plt.show()\n"
   ]
  },
  {
   "cell_type": "code",
   "execution_count": null,
   "id": "6",
   "metadata": {},
   "outputs": [],
   "source": [
    "compare_slices_x_positive_y0(X, Y, ARPDF_ref, X_exp, Y_exp, ARPDF_exp)\n"
   ]
  },
  {
   "cell_type": "code",
   "execution_count": null,
   "id": "7",
   "metadata": {},
   "outputs": [],
   "source": [
    "def compare_slices_y_positive_x0(X_ref, Y_ref, ARPDF_ref,\n",
    "                                  X_exp, Y_exp, ARPDF_exp,\n",
    "                                  labels=(\"Sim\", \"Exp\")):\n",
    "    \"\"\"\n",
    "    Compare ARPDF slices at x=0 and y>0 from two datasets (ref and exp).\n",
    "    \"\"\"\n",
    "    def _to_cpu(arr):\n",
    "        return arr.get() if hasattr(arr, \"get\") else arr\n",
    "\n",
    "    # 保证都在 CPU 上\n",
    "    X_ref, Y_ref, A_ref = map(_to_cpu, (X_ref, Y_ref, ARPDF_ref))\n",
    "    X_exp, Y_exp, A_exp = map(_to_cpu, (X_exp, Y_exp, ARPDF_exp))\n",
    "\n",
    "    # 找出 x=0 最近的一列（纵向切片）\n",
    "    idx_x_ref = np.argmin(np.abs(X_ref[0, :]))  # x 是每一列值相同\n",
    "    idx_x_exp = np.argmin(np.abs(X_exp[0, :]))\n",
    "\n",
    "    # 获取 y>0 部分的切片\n",
    "    y_ref = Y_ref[:, idx_x_ref]\n",
    "    slice_ref = A_ref[:, idx_x_ref]\n",
    "    mask_ref = y_ref > 0\n",
    "    y_ref = y_ref[mask_ref]\n",
    "    slice_ref = slice_ref[mask_ref]\n",
    "\n",
    "    y_exp = Y_exp[:, idx_x_exp]\n",
    "    slice_exp = A_exp[:, idx_x_exp]\n",
    "    mask_exp = y_exp > 0\n",
    "    y_exp = y_exp[mask_exp]\n",
    "    slice_exp = slice_exp[mask_exp]\n",
    "\n",
    "    # 画图\n",
    "    plt.figure(figsize=(6, 4))\n",
    "    plt.plot(y_ref, slice_ref*5.8, label=labels[0], lw=2)\n",
    "    plt.plot(y_exp, slice_exp, label=labels[1], lw=2, linestyle=\"--\")\n",
    "    plt.xlabel(\"y (Å)\")\n",
    "    plt.ylabel(\"ARPDF at x = 0\")\n",
    "    plt.title(\"Comparison of ARPDF slices (x=0, y>0)\")\n",
    "    plt.grid(True)\n",
    "    plt.legend()\n",
    "    plt.tight_layout()\n",
    "    plt.show()\n"
   ]
  },
  {
   "cell_type": "code",
   "execution_count": null,
   "id": "8",
   "metadata": {},
   "outputs": [],
   "source": [
    "compare_slices_y_positive_x0(X, Y, ARPDF_ref, X_exp, Y_exp, ARPDF_exp)\n"
   ]
  },
  {
   "cell_type": "code",
   "execution_count": null,
   "id": "9",
   "metadata": {},
   "outputs": [],
   "source": [
    "# --- 假设 ARPDF, ARPDF_ref, X, Y 都已经准备好 ---\n",
    "# 如果是 cupy.ndarray，先转回 numpy\n",
    "def to_cpu(a):\n",
    "    return a.get() if 'cupy' in type(a).__module__ else a\n",
    "\n",
    "ARPDF_ref = to_cpu(ARPDF_ref)\n",
    "X          = to_cpu(X)\n",
    "Y          = to_cpu(Y)\n",
    "\n",
    "# 1. 找到最接近 y=0 的行索引\n",
    "i0 = np.argmin(np.abs(Y[:, 0]))\n",
    "print(f\"y=0 切片行索引: {i0}, 实际 y={Y[i0,0]:.3f}\")\n",
    "i1 = np.argmin(np.abs(X[0, :]))\n",
    "print(f\"x=0 切片行索引: {i1}, 实际 x={X[0,i1]:.3f}\")\n",
    "\n",
    "# 2. 取出这一行的 x 坐标和两个 ARPDF 的值\n",
    "x_line        = X[i0, :]\n",
    "slice_ref     = ARPDF_ref[i0, :]\n",
    "y_line        = Y[:,i1]\n",
    "slice_ref1     = ARPDF_ref[:, i1]\n",
    "\n",
    "\n",
    "# 3. 分为左右两部分\n",
    "mask_pos = x_line > 0\n",
    "mask_neg = y_line > 0\n",
    "\n",
    "# 4. 作图\n",
    "plt.figure(figsize=(6,4))\n",
    "\n",
    "# 测试 vs 参考：右侧 (x>0)\n",
    "\n",
    "plt.plot(x_line[mask_pos], slice_ref[mask_pos],  'x--', label='⊥')\n",
    "\n",
    "# 测试 vs 参考：左侧 (x<0)\n",
    "\n",
    "plt.plot(x_line[mask_neg], slice_ref1[mask_neg],  'd--', label='∥')\n",
    "\n",
    "plt.axvline(0, color='k', lw=0.8, ls='--')\n",
    "plt.xlabel('x (Å)')\n",
    "plt.ylabel('ARPDF slice')\n",
    "plt.title('ARPDF slice')\n",
    "plt.legend()\n",
    "plt.grid(True)\n",
    "plt.tight_layout()\n",
    "plt.show()\n"
   ]
  },
  {
   "cell_type": "code",
   "execution_count": null,
   "id": "10",
   "metadata": {},
   "outputs": [],
   "source": [
    "def plot_angular_distribution_quadrant1(ARPDF, X, Y, radii, tol=0.01):\n",
    "    \"\"\"\n",
    "    Plot angular distribution (0–90°) from ARPDF at selected radii.\n",
    "    \"\"\"\n",
    "\n",
    "    def _to_cpu(arr):\n",
    "        return arr.get() if hasattr(arr, 'get') else arr\n",
    "\n",
    "    AR = _to_cpu(ARPDF)\n",
    "    Xc = _to_cpu(X)\n",
    "    Yc = _to_cpu(Y)\n",
    "\n",
    "    r_grid = np.sqrt(Xc**2 + Yc**2)\n",
    "    theta_grid = np.arctan2(Yc, Xc)  # 弧度，[-pi, pi]\n",
    "\n",
    "    if tol is None:\n",
    "        unique_r = np.unique(np.round(r_grid.flatten(), 5))\n",
    "        dr = np.min(np.diff(unique_r))\n",
    "        tol = dr\n",
    "\n",
    "    plt.figure(figsize=(6, 4))\n",
    "    for r0 in radii:\n",
    "        mask_r = np.abs(r_grid - r0) < tol\n",
    "        mask_theta = (theta_grid >= 0) & (theta_grid <= np.pi / 2)\n",
    "        mask = mask_r & mask_theta\n",
    "\n",
    "        if not np.any(mask):\n",
    "            print(f\"⚠️ 无法在 r ≈ {r0} Å 且 θ ∈ [0°, 90°] 范围内找到点\")\n",
    "            continue\n",
    "\n",
    "        theta_vals = theta_grid[mask]\n",
    "        intensity_vals = AR[mask]\n",
    "        theta_deg = theta_vals * 180.0 / np.pi\n",
    "        order = np.argsort(theta_deg)\n",
    "        plt.plot(theta_deg[order], intensity_vals[order], label=f\"r ≈ {r0} Å\")\n",
    "\n",
    "    plt.xlabel('θ (degrees)')\n",
    "    plt.ylabel('ARPDF')\n",
    "    plt.title('Angular Distribution (0°–90°)')\n",
    "    plt.legend()\n",
    "    plt.grid(True)\n",
    "    plt.tight_layout()\n",
    "    plt.show()\n",
    "\n",
    "\n"
   ]
  },
  {
   "cell_type": "code",
   "execution_count": null,
   "id": "11",
   "metadata": {},
   "outputs": [],
   "source": [
    "plot_angular_distribution_quadrant1(ARPDF_ref, X, Y, [1.9, 2.6, 3.0])\n"
   ]
  },
  {
   "cell_type": "code",
   "execution_count": null,
   "id": "12",
   "metadata": {},
   "outputs": [],
   "source": [
    "workflow_demo(\n",
    "    X, Y, ARPDF_ref_1,\n",
    "    filter_fourier, \n",
    "    sigma0,  \n",
    "    exp_name=\"cartesian_test\", \n",
    "    metric=\"angular_scale\", \n",
    "    stretch_distances=[round(1.0 + 0.1 * i, 1) for i in range(5)], \n",
    "    weight_cutoff=5.0, \n",
    "    neg=neg\n",
    ")"
   ]
  },
  {
   "cell_type": "code",
   "execution_count": null,
   "id": "fefe1c38-f37f-405b-9463-aee9825c4cf3",
   "metadata": {},
   "outputs": [],
   "source": [
    "polar_workflow_demo(\n",
    "    R=R,\n",
    "    Theta=phi,\n",
    "    ARPDF_ref=polar_ARPDF_ref_1,\n",
    "    exp_name=\"polar_test\",\n",
    "    sigma_similarity=0.3,\n",
    "    sigma0=0.2,\n",
    "    cutoff=10.0,\n",
    "    weight_cutoff=5.0,\n",
    "    metric='angular_scale',\n",
    "    stretch_distances=[round(1.0 + 0.1 * i, 1) for i in range(5)],\n",
    "    neg=False\n",
    ")"
   ]
  },
  {
   "cell_type": "code",
   "execution_count": null,
   "id": "18052796-fe67-429a-8d3b-faeb8fd1f4b6",
   "metadata": {},
   "outputs": [],
   "source": [
    "4.62/1.008/(15.74/54.94)"
   ]
  },
  {
   "cell_type": "code",
   "execution_count": null,
   "id": "13",
   "metadata": {},
   "outputs": [],
   "source": [
    "u0 = mda.Universe('data/CCl4/CCl4.gro')\n",
    "dir_name = \"exp1\"\n",
    "device = torch.device('cuda')\n",
    "ARPDF_optimizer = ARPDFOptimizer(\n",
    "    X, Y, ARPDF_ref, Counter(u0.atoms.types), filter_fourier, cutoff=10.0, sigma0=sigma0, weight_cutoff=8.0,\n",
    "    lr=0.01, gamma=0.995, f_lb=-0.9, s=0.0, beta=0.0, epochs=500, device=device\n",
    ")\n",
    "u1, u2, modified_atoms, polar_axis = utils.load_structure_data(f'tmp/{dir_name}')\n",
    "modified_atoms = select_nbr_mols(u1, modified_atoms, nbr_distance=None, periodic=True)\n",
    "ARPDF_optimizer.set_system(out_dir=f'tmp/{dir_name}', u1=u1, u2=u2, modified_atoms=modified_atoms, polar_axis=polar_axis)\n",
    "print(modified_atoms)"
   ]
  },
  {
   "cell_type": "code",
   "execution_count": null,
   "id": "14",
   "metadata": {},
   "outputs": [],
   "source": [
    "ARPDF_optimizer.optimize()"
   ]
  },
  {
   "cell_type": "code",
   "execution_count": null,
   "id": "15",
   "metadata": {},
   "outputs": [],
   "source": [
    "df = pd.read_csv(f\"tmp/{dir_name}/log.txt\")\n",
    "epochs = df['epoch'].values\n",
    "loss = df['loss'].values\n",
    "cos_sim = df['cos_sim'].values\n",
    "line1, = plt.plot(epochs, loss, label='Loss')\n",
    "plt.xlabel('Epoch')\n",
    "plt.twinx()\n",
    "line2, = plt.plot(epochs, cos_sim, label='Cosine Similarity', color='red')\n",
    "plt.ylabel('Cosine Similarity')\n",
    "plt.legend([line1, line2], ['Loss', 'Cosine Similarity'], loc='upper right')\n",
    "plt.title('Optimization Progress')\n",
    "plt.show()"
   ]
  },
  {
   "cell_type": "code",
   "execution_count": null,
   "id": "16",
   "metadata": {},
   "outputs": [],
   "source": [
    "u1, u2, modified_atoms, polar_axis = utils.load_structure_data(f'tmp/{dir_name}')\n",
    "polar_axis = np.array(polar_axis)\n",
    "polar_axis /= np.linalg.norm(polar_axis)\n",
    "# u2 = mda.Universe('tmp/cos_sim/CCl4_best_init.gro')\n",
    "trajs = np.load(f\"tmp/{dir_name}/traj.npy\")[::5]\n",
    "\n",
    "def rotation_matrix(v1, v2):\n",
    "    u = v1 - v2\n",
    "    if np.linalg.norm(u) < 1e-8:\n",
    "        return np.eye(3)\n",
    "    u /= np.linalg.norm(u)\n",
    "    return np.eye(3) - 2 * np.outer(u, u)\n",
    "\n",
    "R = rotation_matrix(polar_axis, np.array([0., 0., 1.]))\n",
    "center_group = u2.atoms[modified_atoms]\n",
    "_center = center_group[0].position[None, :]\n",
    "around_group = u2.select_atoms(\"around 6.0 group center\", center = center_group, periodic=True)\n",
    "center_group.positions = utils.box_shift(center_group.positions - _center, u2.dimensions) @ R.T\n",
    "around_group.positions = utils.box_shift(around_group.positions - _center, u2.dimensions) @ R.T\n",
    "trajs = utils.box_shift(trajs - _center[None, :, :], u2.dimensions) @ R.T\n",
    "full_trajs = np.zeros((trajs.shape[0], center_group.n_atoms + around_group.n_atoms, 3))\n",
    "full_trajs[:, :center_group.n_atoms, :] = trajs\n",
    "full_trajs[:, center_group.n_atoms:, :] = around_group.positions[None, :, :]\n",
    "u_new = mda.Merge(center_group, around_group)\n",
    "u_new.load_new(full_trajs[1:], format=\"memory\", dt=1.0)\n",
    "# print(around_group.positions[:5])\n",
    "with mda.Writer(f\"tmp/{dir_name}/traj.xyz\", center_group.n_atoms + around_group.n_atoms) as W:\n",
    "    for ts in u_new.trajectory:\n",
    "        W.write(u_new.atoms)"
   ]
  }
 ],
 "metadata": {
  "kernelspec": {
   "display_name": "arpdf",
   "language": "python",
   "name": "python3"
  },
  "language_info": {
   "codemirror_mode": {
    "name": "ipython",
    "version": 3
   },
   "file_extension": ".py",
   "mimetype": "text/x-python",
   "name": "python",
   "nbconvert_exporter": "python",
   "pygments_lexer": "ipython3",
   "version": "3.12.9"
  }
 },
 "nbformat": 4,
 "nbformat_minor": 2
}
